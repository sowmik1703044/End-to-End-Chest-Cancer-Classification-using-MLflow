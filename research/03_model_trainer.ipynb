{
 "cells": [
  {
   "cell_type": "code",
   "execution_count": 1,
   "metadata": {},
   "outputs": [],
   "source": [
    "import os"
   ]
  },
  {
   "cell_type": "code",
   "execution_count": 2,
   "metadata": {},
   "outputs": [
    {
     "data": {
      "text/plain": [
       "'d:\\\\sowmik\\\\chest-cancer-classification\\\\End-to-End-Chest-Cancer-Classification-using-MLflow\\\\research'"
      ]
     },
     "execution_count": 2,
     "metadata": {},
     "output_type": "execute_result"
    }
   ],
   "source": [
    "%pwd"
   ]
  },
  {
   "cell_type": "code",
   "execution_count": 3,
   "metadata": {},
   "outputs": [],
   "source": [
    "os.chdir(\"../\")"
   ]
  },
  {
   "cell_type": "code",
   "execution_count": 4,
   "metadata": {},
   "outputs": [
    {
     "data": {
      "text/plain": [
       "'d:\\\\sowmik\\\\chest-cancer-classification\\\\End-to-End-Chest-Cancer-Classification-using-MLflow'"
      ]
     },
     "execution_count": 4,
     "metadata": {},
     "output_type": "execute_result"
    }
   ],
   "source": [
    "%pwd"
   ]
  },
  {
   "cell_type": "code",
   "execution_count": 5,
   "metadata": {},
   "outputs": [],
   "source": [
    "from dataclasses import dataclass\n",
    "from pathlib import Path\n",
    "\n",
    "\n",
    "@dataclass(frozen=True)\n",
    "class TrainingConfig:\n",
    "    root_dir: Path\n",
    "    trained_model_path: Path\n",
    "    updated_base_model_path: Path\n",
    "    training_data: Path\n",
    "    params_epochs: int\n",
    "    params_batch_size: int\n",
    "    params_is_augmentation: bool\n",
    "    params_image_size: list"
   ]
  },
  {
   "cell_type": "code",
   "execution_count": 7,
   "metadata": {},
   "outputs": [],
   "source": [
    "from Chest_Cancer_Classification.constants import *\n",
    "from Chest_Cancer_Classification.utils.common import read_yaml, create_directories\n",
    "import tensorflow as tf"
   ]
  },
  {
   "cell_type": "code",
   "execution_count": 9,
   "metadata": {},
   "outputs": [],
   "source": [
    "class ConfigurationManager:\n",
    "    def __init__(\n",
    "        self,\n",
    "        config_filepath = CONFIG_FILE_PATH,\n",
    "        params_filepath = PARAMS_FILE_PATH):\n",
    "\n",
    "        self.config = read_yaml(config_filepath)\n",
    "        self.params = read_yaml(params_filepath)\n",
    "\n",
    "        create_directories([self.config.artifacts_root])\n",
    "\n",
    "    def get_training_config(self) -> TrainingConfig:\n",
    "        training = self.config.training\n",
    "        prepare_base_model = self.config.prepare_base_model\n",
    "        params = self.params\n",
    "        training_data = os.path.join(self.config.data_ingestion.unzip_dir, \"Dataset\")\n",
    "        create_directories([\n",
    "            Path(training.root_dir)\n",
    "        ])\n",
    "\n",
    "        training_config = TrainingConfig(\n",
    "            root_dir=Path(training.root_dir),\n",
    "            trained_model_path=Path(training.trained_model_path),\n",
    "            updated_base_model_path=Path(prepare_base_model.updated_base_model_path),\n",
    "            training_data=Path(training_data),\n",
    "            params_epochs=params.EPOCHS,\n",
    "            params_batch_size=params.BATCH_SIZE,\n",
    "            params_is_augmentation=params.AUGMENTATION,\n",
    "            params_image_size=params.IMAGE_SIZE\n",
    "        )\n",
    "\n",
    "        return training_config"
   ]
  },
  {
   "cell_type": "code",
   "execution_count": 10,
   "metadata": {},
   "outputs": [],
   "source": [
    "import os\n",
    "import urllib.request as request\n",
    "from zipfile import ZipFile\n",
    "import tensorflow as tf\n",
    "import time"
   ]
  },
  {
   "cell_type": "code",
   "execution_count": 12,
   "metadata": {},
   "outputs": [],
   "source": [
    "class Training:\n",
    "    def __init__(self, config: TrainingConfig):\n",
    "        self.config = config\n",
    "\n",
    "    \n",
    "    def get_base_model(self):\n",
    "        self.model = tf.keras.models.load_model(\n",
    "            self.config.updated_base_model_path\n",
    "        )\n",
    "\n",
    "    def train_valid_generator(self):\n",
    "\n",
    "        datagenerator_kwargs = dict(\n",
    "            rescale = 1./255,\n",
    "            validation_split=0.20\n",
    "        )\n",
    "\n",
    "        dataflow_kwargs = dict(\n",
    "            target_size=self.config.params_image_size[:-1],\n",
    "            batch_size=self.config.params_batch_size,\n",
    "            interpolation=\"bilinear\"\n",
    "        )\n",
    "\n",
    "        valid_datagenerator = tf.keras.preprocessing.image.ImageDataGenerator(\n",
    "            **datagenerator_kwargs\n",
    "        )\n",
    "\n",
    "        self.valid_generator = valid_datagenerator.flow_from_directory(\n",
    "            directory=self.config.training_data,\n",
    "            subset=\"validation\",\n",
    "            shuffle=False,\n",
    "            **dataflow_kwargs\n",
    "        )\n",
    "\n",
    "        if self.config.params_is_augmentation:\n",
    "            train_datagenerator = tf.keras.preprocessing.image.ImageDataGenerator(\n",
    "                rotation_range=40,\n",
    "                horizontal_flip=True,\n",
    "                width_shift_range=0.2,\n",
    "                height_shift_range=0.2,\n",
    "                shear_range=0.2,\n",
    "                zoom_range=0.2,\n",
    "                **datagenerator_kwargs\n",
    "            )\n",
    "        else:\n",
    "            train_datagenerator = valid_datagenerator\n",
    "\n",
    "        self.train_generator = train_datagenerator.flow_from_directory(\n",
    "            directory=self.config.training_data,\n",
    "            subset=\"training\",\n",
    "            shuffle=True,\n",
    "            **dataflow_kwargs\n",
    "        )\n",
    "\n",
    "    \n",
    "    @staticmethod\n",
    "    def save_model(path: Path, model: tf.keras.Model):\n",
    "        model.save(path)\n",
    "\n",
    "\n",
    "\n",
    "    \n",
    "    def train(self):\n",
    "        self.steps_per_epoch = self.train_generator.samples // self.train_generator.batch_size\n",
    "        self.validation_steps = self.valid_generator.samples // self.valid_generator.batch_size\n",
    "\n",
    "        self.model.fit(\n",
    "            self.train_generator,\n",
    "            epochs=self.config.params_epochs,\n",
    "            steps_per_epoch=self.steps_per_epoch,\n",
    "            validation_steps=self.validation_steps,\n",
    "            validation_data=self.valid_generator\n",
    "        )\n",
    "\n",
    "        self.save_model(\n",
    "            path=self.config.trained_model_path,\n",
    "            model=self.model\n",
    "        )\n"
   ]
  },
  {
   "cell_type": "code",
   "execution_count": 14,
   "metadata": {},
   "outputs": [
    {
     "name": "stdout",
     "output_type": "stream",
     "text": [
      "[2024-08-09 00:19:12,145: INFO: common: yaml file: config\\config.yaml loaded successfully]\n",
      "[2024-08-09 00:19:12,147: INFO: common: yaml file: params.yaml loaded successfully]\n",
      "[2024-08-09 00:19:12,149: INFO: common: created directory at: artifacts]\n",
      "[2024-08-09 00:19:12,149: INFO: common: created directory at: artifacts\\training]\n",
      "Found 68 images belonging to 2 classes.\n",
      "Found 275 images belonging to 2 classes.\n",
      "Epoch 1/20\n",
      "17/17 [==============================] - 24s 1s/step - loss: 14.2323 - accuracy: 0.5483 - val_loss: 23.3873 - val_accuracy: 0.6094\n",
      "Epoch 2/20\n",
      "17/17 [==============================] - 23s 1s/step - loss: 13.7581 - accuracy: 0.5676 - val_loss: 29.1221 - val_accuracy: 0.3906\n",
      "Epoch 3/20\n",
      "17/17 [==============================] - 23s 1s/step - loss: 14.4242 - accuracy: 0.5328 - val_loss: 6.9585 - val_accuracy: 0.6094\n",
      "Epoch 4/20\n",
      "17/17 [==============================] - 23s 1s/step - loss: 5.6505 - accuracy: 0.6795 - val_loss: 0.1073 - val_accuracy: 0.9844\n",
      "Epoch 5/20\n",
      "17/17 [==============================] - 24s 1s/step - loss: 7.2314 - accuracy: 0.6581 - val_loss: 1.3066 - val_accuracy: 0.7656\n",
      "Epoch 6/20\n",
      "17/17 [==============================] - 23s 1s/step - loss: 6.7084 - accuracy: 0.6718 - val_loss: 0.0010 - val_accuracy: 1.0000\n",
      "Epoch 7/20\n",
      "17/17 [==============================] - 23s 1s/step - loss: 5.5960 - accuracy: 0.7606 - val_loss: 0.0175 - val_accuracy: 1.0000\n",
      "Epoch 8/20\n",
      "17/17 [==============================] - 24s 1s/step - loss: 1.4107 - accuracy: 0.8713 - val_loss: 0.0223 - val_accuracy: 1.0000\n",
      "Epoch 9/20\n",
      "17/17 [==============================] - 23s 1s/step - loss: 3.2802 - accuracy: 0.7992 - val_loss: 4.1160e-04 - val_accuracy: 1.0000\n",
      "Epoch 10/20\n",
      "17/17 [==============================] - 23s 1s/step - loss: 1.0040 - accuracy: 0.9112 - val_loss: 0.0193 - val_accuracy: 0.9844\n",
      "Epoch 11/20\n",
      "17/17 [==============================] - 24s 1s/step - loss: 2.5174 - accuracy: 0.7992 - val_loss: 0.0252 - val_accuracy: 1.0000\n",
      "Epoch 12/20\n",
      "17/17 [==============================] - 24s 1s/step - loss: 1.3842 - accuracy: 0.8764 - val_loss: 0.0870 - val_accuracy: 0.9062\n",
      "Epoch 13/20\n",
      "17/17 [==============================] - 25s 1s/step - loss: 0.4701 - accuracy: 0.9421 - val_loss: 0.0097 - val_accuracy: 1.0000\n",
      "Epoch 14/20\n",
      "17/17 [==============================] - 23s 1s/step - loss: 2.8501 - accuracy: 0.8456 - val_loss: 3.8535e-06 - val_accuracy: 1.0000\n",
      "Epoch 15/20\n",
      "17/17 [==============================] - 23s 1s/step - loss: 0.4846 - accuracy: 0.9228 - val_loss: 1.0873 - val_accuracy: 0.8750\n",
      "Epoch 16/20\n",
      "17/17 [==============================] - 23s 1s/step - loss: 0.5280 - accuracy: 0.9537 - val_loss: 1.9503e-04 - val_accuracy: 1.0000\n",
      "Epoch 17/20\n",
      "17/17 [==============================] - 23s 1s/step - loss: 0.8055 - accuracy: 0.8803 - val_loss: 0.0775 - val_accuracy: 0.9844\n",
      "Epoch 18/20\n",
      "17/17 [==============================] - 24s 1s/step - loss: 1.4072 - accuracy: 0.8566 - val_loss: 2.5752e-05 - val_accuracy: 1.0000\n",
      "Epoch 19/20\n",
      "17/17 [==============================] - 23s 1s/step - loss: 1.1546 - accuracy: 0.8764 - val_loss: 0.5946 - val_accuracy: 0.9062\n",
      "Epoch 20/20\n",
      "17/17 [==============================] - 24s 1s/step - loss: 0.7299 - accuracy: 0.9228 - val_loss: 1.8271e-04 - val_accuracy: 1.0000\n"
     ]
    }
   ],
   "source": [
    "try:\n",
    "    config = ConfigurationManager()\n",
    "    training_config = config.get_training_config()\n",
    "    training = Training(config=training_config)\n",
    "    training.get_base_model()\n",
    "    training.train_valid_generator()\n",
    "    training.train()\n",
    "    \n",
    "except Exception as e:\n",
    "    raise e"
   ]
  }
 ],
 "metadata": {
  "kernelspec": {
   "display_name": "cancer",
   "language": "python",
   "name": "python3"
  },
  "language_info": {
   "codemirror_mode": {
    "name": "ipython",
    "version": 3
   },
   "file_extension": ".py",
   "mimetype": "text/x-python",
   "name": "python",
   "nbconvert_exporter": "python",
   "pygments_lexer": "ipython3",
   "version": "3.8.19"
  }
 },
 "nbformat": 4,
 "nbformat_minor": 2
}
